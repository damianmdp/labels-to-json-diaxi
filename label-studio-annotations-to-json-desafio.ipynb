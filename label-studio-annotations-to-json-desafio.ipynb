{
 "cells": [
  {
   "cell_type": "code",
   "execution_count": null,
   "id": "c53a8a00-dffa-4452-bb15-96459c7611b8",
   "metadata": {
    "tags": []
   },
   "outputs": [],
   "source": [
    "import pandas as pd\n",
    "import json\n",
    "from unidecode import unidecode\n",
    "from urllib.parse import unquote"
   ]
  },
  {
   "cell_type": "code",
   "execution_count": null,
   "id": "b4d40bef-22e5-4fa0-b4d6-db617f17eb9b",
   "metadata": {
    "tags": []
   },
   "outputs": [],
   "source": [
    "label_studio_file = 'ROMINA_project-6-at-2023-04-13-20-03-88a115e6.json' #json desde Label Studio --> Export --> JSON List of items in raw JSON format stored in one JSON file. Use to export both the data and the annotations for a dataset. It's Label Studio Common Format\n",
    "df_full = pd.read_json(f'input/{label_studio_file}', encoding='utf-8')"
   ]
  },
  {
   "cell_type": "code",
   "execution_count": null,
   "id": "a89d2610-a87f-48c6-ac7c-84d9cc563e0d",
   "metadata": {
    "tags": []
   },
   "outputs": [],
   "source": [
    "class Contenido_Segmento_Base(object):\n",
    "    def __init__(self, text='', x=-1, y=-1, w=-1, h=-1):\n",
    "        self.text = text\n",
    "        self.bounding_box = {'x': x, 'y': y, 'w': w, 'h': h,}\n",
    "    def to_json(self):\n",
    "        return self.__dict__\n",
    "\n",
    "class Contenido_Segmento_Nota(object):\n",
    "    def __init__(self, text='', x='-1', y='-1', w='-1', h='-1'):\n",
    "        self.text = text\n",
    "        self.bounding_box = {'x': x, 'y': y, 'w': w, 'h': h,}\n",
    "    def to_json(self):\n",
    "        return self.__dict__\n",
    "    \n",
    "class Etiquetado(object):\n",
    "    def __init__(self, diario={}, fecha={}, notas=[]):\n",
    "        self.Diario = {}\n",
    "        self.Fecha = {}\n",
    "        self.Notas = []\n",
    "        if isinstance(diario, Contenido_Segmento_Base):\n",
    "            self.Diario = diario.to_json()\n",
    "        if isinstance(fecha, Contenido_Segmento_Base):\n",
    "            self.Fecha = fecha.to_json()\n",
    "        for _ in notas:\n",
    "            if isinstance(_, Etiquetado_Nota):\n",
    "                self.Notas.append(_.to_json())\n",
    "    def to_json(self):\n",
    "        return self.__dict__\n",
    "\n",
    "class Etiquetado_Nota(object):\n",
    "    def __init__(self, volantas=[], titulos=[], copetes=[], destacados=[], cuerpos=[], fotos=[], epis=[], firmas=[], pag=[]):\n",
    "        self.Volanta = []\n",
    "        self.Título = []\n",
    "        self.Copete = []\n",
    "        self.Destacado = []\n",
    "        self.Cuerpo = []\n",
    "        self.Fotografía = []\n",
    "        self.Epígrafe = []\n",
    "        self.Firma = []\n",
    "        self.Página = []\n",
    "        for _ in volantas:\n",
    "            if isinstance(_, Contenido_Segmento_Base):\n",
    "                self.Volanta.append(_.to_json())\n",
    "        for _ in titulos:\n",
    "            if isinstance(_, Contenido_Segmento_Base):\n",
    "                self.Título.append(_.to_json())\n",
    "        for _ in copetes:\n",
    "            if isinstance(_, Contenido_Segmento_Base):\n",
    "                self.Copete.append(_.to_json())\n",
    "        for _ in destacados:\n",
    "            if isinstance(_, Contenido_Segmento_Base):\n",
    "                self.Destacado.append(_.to_json())\n",
    "        for _ in cuerpos:\n",
    "            if isinstance(_, Contenido_Segmento_Base):\n",
    "                self.Cuerpo.append(_.to_json())\n",
    "        for _ in fotos:\n",
    "            if isinstance(_, Contenido_Segmento_Base):\n",
    "                self.Fotografía.append(_.to_json())\n",
    "        for _ in epis:\n",
    "            if isinstance(_, Contenido_Segmento_Base):\n",
    "                self.Epígrafe.append(_.to_json())\n",
    "        for _ in firmas:\n",
    "            if isinstance(_, Contenido_Segmento_Base):\n",
    "                self.Firma.append(_.to_json())\n",
    "        for _ in pag:\n",
    "            if isinstance(_, Contenido_Segmento_Base):\n",
    "                self.Página.append(_.to_json())\n",
    "    def to_json(self):\n",
    "        return self.__dict__\n",
    "    \n",
    "def get_box_pixels(x=-1, y=-1, w=-1, h=-1):\n",
    "    return (x, y, w, h)\n",
    "\n",
    "def formatear_segmento(row):\n",
    "    return Contenido_Segmento_Base(row.text, row.x_pixels, row.y_pixels, row.w_pixels, row.h_pixels)"
   ]
  },
  {
   "cell_type": "code",
   "execution_count": null,
   "id": "b75a3733-bf78-404d-97ea-27e154defefe",
   "metadata": {
    "tags": []
   },
   "outputs": [],
   "source": [
    "def get_groups(df):\n",
    "    df_rectangulos = df[df['type']=='rectanglelabels']\n",
    "    df_relaciones = df[df['type']=='relation']\n",
    "    if df_relaciones.shape[0] == 0:\n",
    "        df_rectangulos['grupo'] = 0\n",
    "    else:\n",
    "        df_padres = df_relaciones['from_id'].value_counts().keys()\n",
    "        relaciones_id = []\n",
    "        for i, p in enumerate(df_padres):\n",
    "            relaciones_id.append([p] + df_relaciones[df_relaciones['from_id']==p]['to_id'].to_list())\n",
    "\n",
    "        lista=[]\n",
    "        for g in range(len(relaciones_id)):\n",
    "            for r in relaciones_id[g]:\n",
    "                lista.append([r,g])\n",
    "        df_grupos = pd.DataFrame(lista, columns=['id', 'grupo']).set_index(['id'])\n",
    "\n",
    "        df_rectangulos = df_rectangulos.join(df_grupos, on='id')\n",
    "\n",
    "    return df_rectangulos"
   ]
  },
  {
   "cell_type": "code",
   "execution_count": null,
   "id": "1931a047-4b74-47ba-8d77-29e99a2d62f8",
   "metadata": {
    "tags": []
   },
   "outputs": [],
   "source": [
    "segmentos_base = ['Diario', 'Fecha']\n",
    "segmentos_notas = ['Volanta', 'Título', 'Copete', 'Destacado', 'Cuerpo', 'Fotografía', 'Epígrafe', 'Firma', 'Página']\n",
    "segmentos_todos = segmentos_base + segmentos_notas"
   ]
  },
  {
   "cell_type": "code",
   "execution_count": null,
   "id": "fee892cd-5d07-4bbc-9575-e8f1b439b79a",
   "metadata": {
    "tags": []
   },
   "outputs": [],
   "source": [
    "notas = range(df_full.shape[0])\n",
    "df_etiquetas = pd.DataFrame(columns=['image', 'label', 'x_pixels', 'y_pixels', 'w_pixels', 'h_pixels', 'text', 'grupo'])\n",
    "\n",
    "index = 0\n",
    "\n",
    "for nota in notas:\n",
    "    image = df_full['data'][nota]['image']\n",
    "    df_groups = get_groups(pd.DataFrame.from_dict(df_full['annotations'][nota][0]['result']))\n",
    "    etiquetas = range(len(df_groups))\n",
    "    for etiqueta in etiquetas:\n",
    "        dict_data = {}\n",
    "        dict_data['image'] = unidecode(unquote(image[24:-4]))\n",
    "        dict_data['w_ori'] = df_groups.iloc[etiqueta]['original_width']\n",
    "        dict_data['h_ori'] = df_groups.iloc[etiqueta]['original_height']\n",
    "        dict_data['x_pixels'] = round(df_groups.iloc[etiqueta]['value']['x'] / 100 * dict_data['w_ori'])\n",
    "        dict_data['y_pixels'] = round(df_groups.iloc[etiqueta]['value']['y'] / 100 * dict_data['h_ori'])\n",
    "        dict_data['w_pixels'] = round(df_groups.iloc[etiqueta]['value']['width'] / 100 * dict_data['w_ori'])\n",
    "        dict_data['h_pixels'] = round(df_groups.iloc[etiqueta]['value']['height'] / 100 * dict_data['h_ori'])\n",
    "        dict_data['label'] = df_groups.iloc[etiqueta]['value']['rectanglelabels'][0]\n",
    "        dict_data['grupo'] = df_groups.iloc[etiqueta]['grupo']\n",
    "        try:\n",
    "            dict_data['text'] = df_groups.iloc[etiqueta]['meta']['text'][0]\n",
    "            dict_data['valido'] = True\n",
    "        except:\n",
    "            print(f\"Segmento sin texto -> Archivo {dict_data['image']}, Etiqueta {dict_data['label']}\")\n",
    "            dict_data['valido'] = False\n",
    "        \n",
    "        df_etiquetas = pd.concat([df_etiquetas, pd.DataFrame(data=dict_data, index=[index])])\n",
    "        index += 1"
   ]
  },
  {
   "cell_type": "code",
   "execution_count": null,
   "id": "d9469199-bd05-410e-9cdf-40709cfd09e5",
   "metadata": {
    "tags": []
   },
   "outputs": [],
   "source": [
    "for img in df_etiquetas.image.value_counts().keys():\n",
    "    print(f'Imagen: {img}')\n",
    "    yeison = {}\n",
    "    nn = []\n",
    "    df = df_etiquetas[(df_etiquetas.image == img)&(df_etiquetas.valido == True)]\n",
    "    \n",
    "    for s in segmentos_base:\n",
    "        df_ = df[df.label == s]\n",
    "        if df_.shape[0] > 0:\n",
    "            yeison[s] = df_.apply(formatear_segmento, axis=1).to_list()\n",
    "        else:\n",
    "            yeison[s] = [{}]\n",
    "\n",
    "    for g in df.grupo.value_counts().keys():\n",
    "        for s in segmentos_notas:\n",
    "            df_ = df[(df.label == s)&(df.grupo == g)]\n",
    "            if df_.shape[0] > 0:\n",
    "                yeison[s] = df_.apply(formatear_segmento, axis=1).to_list()\n",
    "            else:\n",
    "                yeison[s] = [{}]\n",
    "\n",
    "        nn.append(Etiquetado_Nota(yeison['Volanta'], yeison['Título'], yeison['Copete'], yeison['Destacado'],\n",
    "                                  yeison['Cuerpo'], yeison['Fotografía'], yeison['Epígrafe'], yeison['Firma'], \n",
    "                                  yeison['Página']))\n",
    "    e = Etiquetado(diario=yeison['Diario'][0], fecha=yeison['Fecha'][0], notas=nn)\n",
    "    \n",
    "    with open(f'output/datos_{img}.json', 'w') as f:\n",
    "        json.dump(e.to_json(), f, ensure_ascii=False, indent=2)\n",
    "    print('Archivo generado OK!')\n",
    "    print('==========================')"
   ]
  },
  {
   "cell_type": "code",
   "execution_count": null,
   "id": "abbfb401-9a4a-40c5-95a4-e8f34ed57c26",
   "metadata": {},
   "outputs": [],
   "source": []
  }
 ],
 "metadata": {
  "kernelspec": {
   "display_name": "Python 3 (ipykernel)",
   "language": "python",
   "name": "python3"
  },
  "language_info": {
   "codemirror_mode": {
    "name": "ipython",
    "version": 3
   },
   "file_extension": ".py",
   "mimetype": "text/x-python",
   "name": "python",
   "nbconvert_exporter": "python",
   "pygments_lexer": "ipython3",
   "version": "3.10.9"
  }
 },
 "nbformat": 4,
 "nbformat_minor": 5
}
